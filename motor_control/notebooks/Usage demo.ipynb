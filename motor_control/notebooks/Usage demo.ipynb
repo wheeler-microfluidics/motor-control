{
 "metadata": {
  "name": "",
  "signature": "sha256:15d5d92a2607c309d5e6ea43f16790132943af6221127e770167ae715ef54b85"
 },
 "nbformat": 3,
 "nbformat_minor": 0,
 "worksheets": [
  {
   "cells": [
    {
     "cell_type": "code",
     "collapsed": false,
     "input": [
      "from collections import OrderedDict\n",
      "import sys\n",
      "import base_node_rpc.node as bn\n",
      "import motor_control as mc\n",
      "from nadamq.NadaMq import cPacket, cPacketParser, PACKET_TYPES, PACKET_NAME_BY_TYPE\n",
      "from serial import Serial\n",
      "import pandas as pd\n",
      "import numpy as np\n",
      "import numpy as np\n",
      "\n",
      "STEP_SETTINGS = pd.DataFrame([[0, 0, 0], [1, 0, 0], [0, 1, 0],\n",
      "                              [1, 1, 0], [1, 1, 1]],\n",
      "                             columns=['ms1', 'ms2', 'ms3'],\n",
      "                             index=['full', 'half', 'quarter',\n",
      "                                    'eighth', 'sixteenth']).T\n",
      "STEP_SETTINGS_BYTECODE = STEP_SETTINGS.apply(np.packbits, axis=0).iloc[0]\n",
      "STEP_SETTINGS_BYTECODE.name = 'microstep_bytecode'\n",
      "STEP_SETTINGS_BYTECODE\n",
      "\n",
      "\n",
      "def dump_message(msg):\n",
      "    keys = msg.DESCRIPTOR.fields_by_name.keys()\n",
      "    max_len = max(map(len, keys))\n",
      "    return '\\n'.join([('%' + str(max_len) + 's: %s') %\n",
      "                      (k, getattr(msg, k)) for k in keys])"
     ],
     "language": "python",
     "metadata": {},
     "outputs": [],
     "prompt_number": 1
    },
    {
     "cell_type": "markdown",
     "metadata": {},
     "source": [
      "--------------------------------------------------"
     ]
    },
    {
     "cell_type": "heading",
     "level": 2,
     "metadata": {},
     "source": [
      "Connect to device"
     ]
    },
    {
     "cell_type": "code",
     "collapsed": false,
     "input": [
      "import time\n",
      "# serial_device = Serial('/dev/ttyUSB0', baudrate=115200)\n",
      "serial_device = Serial('/dev/ttyACM0', baudrate=115200)\n",
      "proxy = mc.Proxy(serial_device)\n",
      "time.sleep(2)\n",
      "\n",
      "print proxy.ram_free(), 'bytes RAM free'\n",
      "proxy.properties()"
     ],
     "language": "python",
     "metadata": {},
     "outputs": [
      {
       "output_type": "stream",
       "stream": "stdout",
       "text": [
        "255 bytes RAM free\n"
       ]
      },
      {
       "metadata": {},
       "output_type": "pyout",
       "prompt_number": 3,
       "text": [
        "base_node_software_version                                          0.10.post14\n",
        "name                                                              motor_control\n",
        "manufacturer                                                        Wheeler Lab\n",
        "url                           http://github.com/wheeler-microfluidics/motor-...\n",
        "software_version                                                      0.2.post2\n",
        "dtype: object"
       ]
      }
     ],
     "prompt_number": 3
    },
    {
     "cell_type": "markdown",
     "metadata": {},
     "source": [
      "--------------------------------------------------"
     ]
    },
    {
     "cell_type": "heading",
     "level": 2,
     "metadata": {},
     "source": [
      "Dump initial configuration and motor state"
     ]
    },
    {
     "cell_type": "code",
     "collapsed": false,
     "input": [
      "config = mc.Config.FromString(proxy.serialize_config().tostring())\n",
      "state = mc.State.FromString(proxy.serialize_state().tostring())\n",
      "print dump_message(config)\n",
      "print ''\n",
      "print dump_message(state)"
     ],
     "language": "python",
     "metadata": {},
     "outputs": [
      {
       "output_type": "stream",
       "stream": "stdout",
       "text": [
        "max_waveform_frequency: 10000\n",
        "  max_waveform_voltage: 200\n",
        "             baud_rate: 115200\n",
        "min_waveform_frequency: 0\n",
        "         serial_number: 0\n",
        "           i2c_address: 0\n",
        "\n",
        " motor_direction: False\n",
        "  motor_delay_us: 1000\n",
        "  motor_position: 0\n",
        "motor_continuous: False\n",
        "   motor_enabled: False\n",
        "     motor_speed: 0\n",
        "  motor_pulse_us: 20\n"
       ]
      }
     ],
     "prompt_number": 4
    },
    {
     "cell_type": "markdown",
     "metadata": {},
     "source": [
      "--------------------------------------------------"
     ]
    },
    {
     "cell_type": "heading",
     "level": 2,
     "metadata": {},
     "source": [
      "Basic interfacing"
     ]
    },
    {
     "cell_type": "code",
     "collapsed": false,
     "input": [
      "# Set several motor attributes at once using `update_state` method.\n",
      "proxy.update_state(motor_delay_us=int(1e3), motor_enabled=True, motor_pulse_us=20)"
     ],
     "language": "python",
     "metadata": {},
     "outputs": [
      {
       "metadata": {},
       "output_type": "pyout",
       "prompt_number": 5,
       "text": [
        "1"
       ]
      }
     ],
     "prompt_number": 5
    },
    {
     "cell_type": "code",
     "collapsed": false,
     "input": [
      "# Reset current motor position as position 0.\n",
      "proxy.motor_set_home()"
     ],
     "language": "python",
     "metadata": {},
     "outputs": [],
     "prompt_number": 6
    },
    {
     "cell_type": "code",
     "collapsed": false,
     "input": [
      "# Query current motor position.\n",
      "proxy.position()"
     ],
     "language": "python",
     "metadata": {},
     "outputs": [
      {
       "metadata": {},
       "output_type": "pyout",
       "prompt_number": 7,
       "text": [
        "0"
       ]
      }
     ],
     "prompt_number": 7
    },
    {
     "cell_type": "code",
     "collapsed": false,
     "input": [
      "# Set motor speed (steps per second).\n",
      "proxy.motor_set_speed(1000)"
     ],
     "language": "python",
     "metadata": {},
     "outputs": [],
     "prompt_number": 8
    },
    {
     "cell_type": "code",
     "collapsed": false,
     "input": [
      "# Set target position to half turn (assuming 200 steps/revolution motor).\n",
      "proxy.set_target_position(100)"
     ],
     "language": "python",
     "metadata": {},
     "outputs": [],
     "prompt_number": 9
    },
    {
     "cell_type": "code",
     "collapsed": false,
     "input": [
      "# Set target position origin.\n",
      "proxy.set_target_position(0)"
     ],
     "language": "python",
     "metadata": {},
     "outputs": [],
     "prompt_number": 10
    },
    {
     "cell_type": "code",
     "collapsed": false,
     "input": [
      "# Move steps relative to current position.\n",
      "# Positive values are clockwise, negative counter-clockwise.\n",
      "proxy.move(-1)"
     ],
     "language": "python",
     "metadata": {},
     "outputs": [],
     "prompt_number": 11
    },
    {
     "cell_type": "code",
     "collapsed": false,
     "input": [
      "# If the motor is enabled, start moving the motor at 20 steps per second.\n",
      "proxy.motor_start(-400)"
     ],
     "language": "python",
     "metadata": {},
     "outputs": [],
     "prompt_number": 12
    },
    {
     "cell_type": "code",
     "collapsed": false,
     "input": [
      "# Stop the motor (but do not disable it).\n",
      "proxy.motor_stop()"
     ],
     "language": "python",
     "metadata": {},
     "outputs": [],
     "prompt_number": 13
    },
    {
     "cell_type": "markdown",
     "metadata": {},
     "source": [
      "--------------------------------------------------"
     ]
    },
    {
     "cell_type": "heading",
     "level": 1,
     "metadata": {},
     "source": [
      "Interactive control"
     ]
    },
    {
     "cell_type": "code",
     "collapsed": false,
     "input": [
      "from IPython.html.widgets import interactive\n",
      "\n",
      "\n",
      "def update_motor(position=0, speed=1000, enabled=False, microstep_mode='full'):\n",
      "    if enabled:\n",
      "        # Change microstep setting (STEP_SETTINGS.(full,half,quarter,eighth,sixteeth)\n",
      "        proxy.set_MS(*getattr(STEP_SETTINGS, microstep_mode).values)\n",
      "        # Set motor speed (steps per second).\n",
      "        proxy.motor_set_speed(speed)\n",
      "        proxy.update_state(motor_enabled=True)\n",
      "        proxy.set_target_position(position)\n",
      "    else:\n",
      "        proxy.update_state(motor_enabled=False)\n",
      "\n",
      "    \n",
      "interactive(update_motor, position=(-400, 400), speed=(200, 1600),\n",
      "            microstep_mode=('full', 'half', 'quarter', 'eighth', 'sixteenth'))"
     ],
     "language": "python",
     "metadata": {},
     "outputs": [],
     "prompt_number": 14
    }
   ],
   "metadata": {}
  }
 ]
}